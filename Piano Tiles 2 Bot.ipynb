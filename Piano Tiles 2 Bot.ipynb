{
 "cells": [
  {
   "cell_type": "code",
   "execution_count": 3,
   "metadata": {},
   "outputs": [],
   "source": [
    "\"\"\"\n",
    "1- Enter this link \"https://poki.com/en/g/piano-tiles-2?campaign=14340126420&adgroup=121283441970&target=dsa-645606693027&location=1012786&creative=540368175359&placement=&gclid=Cj0KCQjwpreJBhDvARIsAF1_BU0szzuiGlkSG5pw_UQIETMF6etdwMJKMhKq_BIj_wNX3V2zX_22d0MaAoeQEALw_wcB\".\n",
    "2- Start this code.\n",
    "3- Press play button then press start button.\n",
    "4- Enjoy.\n",
    "\"\"\"\n",
    "\n",
    "import pyautogui\n",
    "import win32api\n",
    "import keyboard\n",
    "\n",
    "def mouseClick(x, y):\n",
    "    win32api.SetCursorPos((x, y))\n",
    "    pyautogui.click()\n",
    "\n",
    "while keyboard.is_pressed('q') == False:\n",
    "    if pyautogui.pixel(698, 490)[0] == 1 or pyautogui.pixel(698, 490)[0] == 0:\n",
    "        mouseClick(698, 509)\n",
    "    if pyautogui.pixel(778, 490)[0] == 1 or pyautogui.pixel(778, 490)[0] == 0:\n",
    "        mouseClick(778, 509)\n",
    "    if pyautogui.pixel(861, 490)[0] == 1 or pyautogui.pixel(861, 490)[0] == 0:\n",
    "        mouseClick(861, 509)\n",
    "    if pyautogui.pixel(946, 490)[0] == 1 or pyautogui.pixel(946, 490)[0] == 0:\n",
    "        mouseClick(946, 509)\n",
    "\n"
   ]
  },
  {
   "cell_type": "code",
   "execution_count": null,
   "metadata": {},
   "outputs": [],
   "source": []
  }
 ],
 "metadata": {
  "interpreter": {
   "hash": "c350624c7ace56b38d98e8b05ae8417b123746ea3048d48e80b47a246ce5e68a"
  },
  "kernelspec": {
   "display_name": "Python 3.8.3 ('base')",
   "language": "python",
   "name": "python3"
  },
  "language_info": {
   "codemirror_mode": {
    "name": "ipython",
    "version": 3
   },
   "file_extension": ".py",
   "mimetype": "text/x-python",
   "name": "python",
   "nbconvert_exporter": "python",
   "pygments_lexer": "ipython3",
   "version": "3.8.3"
  },
  "orig_nbformat": 4
 },
 "nbformat": 4,
 "nbformat_minor": 2
}
