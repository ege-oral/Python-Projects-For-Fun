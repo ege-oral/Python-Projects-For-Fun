{
 "cells": [
  {
   "cell_type": "code",
   "execution_count": 2,
   "metadata": {},
   "outputs": [
    {
     "name": "stdout",
     "output_type": "stream",
     "text": [
      "https://blackboard.maltepe.edu.tr/ultra/courses/_71623_1/outline\n",
      "https://eu.bbcollab.com/collab/ui/session/join/9705042db02d459da0c5745f2ff6e2ed\n"
     ]
    }
   ],
   "source": [
    "'''\n",
    "Consider using chrome extension \"XPath Helper\".\n",
    "\n",
    "This project idea is make a raise hand bot for blackboard system. \n",
    "'''\n",
    "from selenium import webdriver\n",
    "from selenium.webdriver.common.keys import Keys\n",
    "from selenium.webdriver.support import expected_conditions as EC\n",
    "from selenium.webdriver.common.by import By\n",
    "from selenium.webdriver.support.ui import WebDriverWait as wait\n",
    "import time\n",
    "\n",
    "user_id = input(\"Enter your user ID: \")\n",
    "password = input(\"Enter your password: \")\n",
    "\n",
    "PATH = \"D:\\\\ChromeDriver\\\\chromedriver.exe\" # We need a chrome or other web driver .exe path.\n",
    "driver = webdriver.Chrome(PATH)\n",
    "\n",
    "driver.get(\"https://blackboard.maltepe.edu.tr/\") # Get Blackboard website request.\n",
    "wait(driver, 10).until(EC.element_to_be_clickable((By.XPATH, '//*[@id=\"agree_button\"]'))).click()\n",
    "\n",
    "inputElement = driver.find_element_by_id(\"user_id\")\n",
    "inputElement.send_keys(user_id)\n",
    "inputElement = driver.find_element_by_id(\"password\")\n",
    "inputElement.send_keys(password)\n",
    "\n",
    "link = driver.find_element_by_id('entry-login')\n",
    "link.click()\n",
    "driver.get(\"https://blackboard.maltepe.edu.tr/ultra/courses/_71623_1/outline\")\n",
    "\n",
    "wait(driver, 10).until(EC.element_to_be_clickable((By.XPATH, \"//span[text()='Oturuma katıl']\"))).click()\n",
    "wait(driver, 10).until(EC.element_to_be_clickable((By.XPATH, \"//span[text()='Ders Odası']\"))).click()\n",
    "print(driver.current_url)\n",
    "time.sleep(5)\n",
    "window_before = driver.window_handles[0]\n",
    "window_after = driver.window_handles[1]\n",
    "driver.switch_to.window(window_after)\n",
    "print(driver.current_url)\n",
    "newURL = driver.current_url\n",
    "driver.get(newURL)\n",
    "time.sleep(10)\n",
    "\n",
    "driver.find_element_by_xpath('//div[@class=\"techcheck-permissions\"]//button').click()\n",
    "time.sleep(3)\n",
    "driver.find_element_by_xpath(\"//div[@id='announcement-modal-page-wrap']//button[@class='close']\").click()\n",
    "wait(driver, 10).until(EC.element_to_be_clickable((By.ID, 'raise-hand'))).click()"
   ]
  },
  {
   "cell_type": "code",
   "execution_count": null,
   "metadata": {},
   "outputs": [],
   "source": []
  }
 ],
 "metadata": {
  "interpreter": {
   "hash": "c350624c7ace56b38d98e8b05ae8417b123746ea3048d48e80b47a246ce5e68a"
  },
  "kernelspec": {
   "display_name": "Python 3.8.3 ('base')",
   "language": "python",
   "name": "python3"
  },
  "language_info": {
   "codemirror_mode": {
    "name": "ipython",
    "version": 3
   },
   "file_extension": ".py",
   "mimetype": "text/x-python",
   "name": "python",
   "nbconvert_exporter": "python",
   "pygments_lexer": "ipython3",
   "version": "3.8.3"
  },
  "orig_nbformat": 4
 },
 "nbformat": 4,
 "nbformat_minor": 2
}
